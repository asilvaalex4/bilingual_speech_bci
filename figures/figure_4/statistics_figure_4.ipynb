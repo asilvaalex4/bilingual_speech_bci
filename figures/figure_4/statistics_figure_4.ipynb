{
 "cells": [
  {
   "cell_type": "code",
   "execution_count": 5,
   "id": "a0b5c8c9-9a1f-4ca4-a88c-e318f12570bf",
   "metadata": {},
   "outputs": [],
   "source": [
    "import pandas as pd\n",
    "# load the source data for each panel \n",
    "panel_b = pd.read_excel('./fig4_sourcedata.xlsx',engine='openpyxl',sheet_name='Panel_b',index_col=0)\n",
    "panel_c = pd.read_excel('./fig4_sourcedata.xlsx',engine='openpyxl',sheet_name='Panel_c',index_col=0)\n",
    "panel_e = pd.read_excel('./fig4_sourcedata.xlsx',engine='openpyxl',sheet_name='Panel_e',index_col=0)\n",
    "panel_f = pd.read_excel('./fig4_sourcedata.xlsx',engine='openpyxl',sheet_name='Panel_f',index_col=0)"
   ]
  },
  {
   "cell_type": "code",
   "execution_count": 6,
   "id": "1f1fb273-4639-4e8d-9bab-96d9586bab9e",
   "metadata": {},
   "outputs": [
    {
     "data": {
      "text/plain": [
       "WilcoxonResult(statistic=1.0, pvalue=0.00390625)"
      ]
     },
     "execution_count": 6,
     "metadata": {},
     "output_type": "execute_result"
    }
   ],
   "source": [
    "from scipy.stats import wilcoxon\n",
    "wilcoxon(panel_e.best_mcd,panel_e.worst_mcd)\n"
   ]
  }
 ],
 "metadata": {
  "kernelspec": {
   "display_name": "Python 3 (ipykernel)",
   "language": "python",
   "name": "python3"
  },
  "language_info": {
   "codemirror_mode": {
    "name": "ipython",
    "version": 3
   },
   "file_extension": ".py",
   "mimetype": "text/x-python",
   "name": "python",
   "nbconvert_exporter": "python",
   "pygments_lexer": "ipython3",
   "version": "3.9.13"
  }
 },
 "nbformat": 4,
 "nbformat_minor": 5
}
