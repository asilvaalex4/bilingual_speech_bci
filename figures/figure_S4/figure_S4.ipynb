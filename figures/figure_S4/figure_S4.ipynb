{
 "cells": [
  {
   "cell_type": "code",
   "execution_count": 11,
   "id": "68d22bf8-1cc1-4b60-8184-636778ab004b",
   "metadata": {},
   "outputs": [],
   "source": [
    "import pandas as pd\n",
    "# load the source data for each panel \n",
    "plt_df = pd.read_excel('./SD_SUPP_FIG4.xlsx',engine='openpyxl',sheet_name='Panel_a',index_col=0)"
   ]
  },
  {
   "cell_type": "code",
   "execution_count": 13,
   "id": "9c13ea2a-0f36-452f-b7f3-131d57a86cfa",
   "metadata": {},
   "outputs": [
    {
     "name": "stdout",
     "output_type": "stream",
     "text": [
      "p-value annotation legend:\n",
      "ns: 1.00e-02 < p <= 1.00e+00\n",
      "*: 1.00e-03 < p <= 1.00e-02\n",
      "**: 1.00e-04 < p <= 1.00e-03\n",
      "****: p <= 1.00e-04\n",
      "\n",
      "All sentences v.s. AAC sentences: Mann-Whitney-Wilcoxon test two-sided with Bonferroni correction, P_val=7.078e-01 U_stat=1.464e+04\n"
     ]
    },
    {
     "data": {
      "image/png": "[encoded data removed]",
      "text/plain": [
       "<Figure size 500x400 with 1 Axes>"
      ]
     },
     "metadata": {},
     "output_type": "display_data"
    }
   ],
   "source": [
    "import matplotlib.pyplot as plt\n",
    "import seaborn as sns\n",
    "import matplotlib as mpl\n",
    "from statannot import add_stat_annotation\n",
    "\n",
    "fig,ax = plt.subplots(figsize=(5,4))\n",
    "pvalue_thresholds = [[1e-4, \"****\"], [0.001, \"**\"], [0.01, \"*\"], [1, \"ns\"]]\n",
    "mpl.rcParams['axes.spines.top'] = False\n",
    "mpl.rcParams['axes.spines.right'] = False\n",
    "mpl.rcParams['font.sans-serif'] = ['Arial']\n",
    "plt.rcParams.update({'font.size': 10})\n",
    "\n",
    "\n",
    "sns.boxplot(ax=ax, data=plt_df,x='Paradigm',y='Number of letters',color=sns.color_palette().as_hex()[0],boxprops={'alpha':0.8})\n",
    "\n",
    "test_results = add_stat_annotation(ax, data=plt_df,x='Paradigm',y='Number of letters',\n",
    "                                   box_pairs = [ ('All sentences','AAC sentences')], \n",
    "                                   test='Mann-Whitney', text_format='star',\n",
    "                                   loc='inside', verbose=2,line_offset=0.12,pvalue_thresholds=pvalue_thresholds)\n",
    "\n",
    "\n",
    "sns.despine(ax=ax, offset=dict(left=5, bottom=5))\n",
    "ax.set_ylim([0,12])\n",
    "ax.set_yticks([0,4,8,12])\n",
    "ax.set_ylabel('Number of letters per word')\n",
    "ax.set_xlabel('')\n",
    "plt.savefig('./figure_S4.jpg',dpi=300,bbox_inches='tight')"
   ]
  },
  {
   "cell_type": "code",
   "execution_count": 3,
   "id": "b648a9a6-5664-4760-aa1c-e721ac674473",
   "metadata": {},
   "outputs": [
    {
     "data": {
      "text/plain": [
       "MannwhitneyuResult(statistic=14640.5, pvalue=0.707815591173872)"
      ]
     },
     "execution_count": 3,
     "metadata": {},
     "output_type": "execute_result"
    }
   ],
   "source": [
    "from scipy.stats import mannwhitneyu\n",
    "mannwhitneyu(plt_df[plt_df.Paradigm == 'All sentences']['Number of letters'].values\n",
    "             ,plt_df[plt_df.Paradigm == 'AAC sentences']['Number of letters'].values)"
   ]
  },
  {
   "cell_type": "code",
   "execution_count": 9,
   "id": "8e5dea01-0a4f-4b0a-88f1-ea5a7f75eb87",
   "metadata": {},
   "outputs": [
    {
     "data": {
      "text/html": [
       "<div>\n",
       "<style scoped>\n",
       "    .dataframe tbody tr th:only-of-type {\n",
       "        vertical-align: middle;\n",
       "    }\n",
       "\n",
       "    .dataframe tbody tr th {\n",
       "        vertical-align: top;\n",
       "    }\n",
       "\n",
       "    .dataframe thead th {\n",
       "        text-align: right;\n",
       "    }\n",
       "</style>\n",
       "<table border=\"1\" class=\"dataframe\">\n",
       "  <thead>\n",
       "    <tr style=\"text-align: right;\">\n",
       "      <th></th>\n",
       "      <th>Number of letters</th>\n",
       "      <th>Paradigm</th>\n",
       "    </tr>\n",
       "  </thead>\n",
       "  <tbody>\n",
       "    <tr>\n",
       "      <th>227</th>\n",
       "      <td>3</td>\n",
       "      <td>AAC sentences</td>\n",
       "    </tr>\n",
       "    <tr>\n",
       "      <th>228</th>\n",
       "      <td>4</td>\n",
       "      <td>AAC sentences</td>\n",
       "    </tr>\n",
       "    <tr>\n",
       "      <th>229</th>\n",
       "      <td>5</td>\n",
       "      <td>AAC sentences</td>\n",
       "    </tr>\n",
       "    <tr>\n",
       "      <th>230</th>\n",
       "      <td>4</td>\n",
       "      <td>AAC sentences</td>\n",
       "    </tr>\n",
       "    <tr>\n",
       "      <th>231</th>\n",
       "      <td>4</td>\n",
       "      <td>AAC sentences</td>\n",
       "    </tr>\n",
       "    <tr>\n",
       "      <th>...</th>\n",
       "      <td>...</td>\n",
       "      <td>...</td>\n",
       "    </tr>\n",
       "    <tr>\n",
       "      <th>348</th>\n",
       "      <td>2</td>\n",
       "      <td>AAC sentences</td>\n",
       "    </tr>\n",
       "    <tr>\n",
       "      <th>349</th>\n",
       "      <td>8</td>\n",
       "      <td>AAC sentences</td>\n",
       "    </tr>\n",
       "    <tr>\n",
       "      <th>350</th>\n",
       "      <td>2</td>\n",
       "      <td>AAC sentences</td>\n",
       "    </tr>\n",
       "    <tr>\n",
       "      <th>351</th>\n",
       "      <td>6</td>\n",
       "      <td>AAC sentences</td>\n",
       "    </tr>\n",
       "    <tr>\n",
       "      <th>352</th>\n",
       "      <td>5</td>\n",
       "      <td>AAC sentences</td>\n",
       "    </tr>\n",
       "  </tbody>\n",
       "</table>\n",
       "<p>126 rows × 2 columns</p>\n",
       "</div>"
      ],
      "text/plain": [
       "     Number of letters       Paradigm\n",
       "227                  3  AAC sentences\n",
       "228                  4  AAC sentences\n",
       "229                  5  AAC sentences\n",
       "230                  4  AAC sentences\n",
       "231                  4  AAC sentences\n",
       "..                 ...            ...\n",
       "348                  2  AAC sentences\n",
       "349                  8  AAC sentences\n",
       "350                  2  AAC sentences\n",
       "351                  6  AAC sentences\n",
       "352                  5  AAC sentences\n",
       "\n",
       "[126 rows x 2 columns]"
      ]
     },
     "execution_count": 9,
     "metadata": {},
     "output_type": "execute_result"
    }
   ],
   "source": [
    "plt_df[plt_df.Paradigm == 'AAC sentences']"
   ]
  },
  {
   "cell_type": "code",
   "execution_count": 10,
   "id": "2c88a0cf-1989-4c27-af2f-610bc7e31c02",
   "metadata": {},
   "outputs": [
    {
     "data": {
      "text/html": [
       "<div>\n",
       "<style scoped>\n",
       "    .dataframe tbody tr th:only-of-type {\n",
       "        vertical-align: middle;\n",
       "    }\n",
       "\n",
       "    .dataframe tbody tr th {\n",
       "        vertical-align: top;\n",
       "    }\n",
       "\n",
       "    .dataframe thead th {\n",
       "        text-align: right;\n",
       "    }\n",
       "</style>\n",
       "<table border=\"1\" class=\"dataframe\">\n",
       "  <thead>\n",
       "    <tr style=\"text-align: right;\">\n",
       "      <th></th>\n",
       "      <th>Number of letters</th>\n",
       "      <th>Paradigm</th>\n",
       "    </tr>\n",
       "  </thead>\n",
       "  <tbody>\n",
       "    <tr>\n",
       "      <th>0</th>\n",
       "      <td>5</td>\n",
       "      <td>All sentences</td>\n",
       "    </tr>\n",
       "    <tr>\n",
       "      <th>1</th>\n",
       "      <td>7</td>\n",
       "      <td>All sentences</td>\n",
       "    </tr>\n",
       "    <tr>\n",
       "      <th>2</th>\n",
       "      <td>3</td>\n",
       "      <td>All sentences</td>\n",
       "    </tr>\n",
       "    <tr>\n",
       "      <th>3</th>\n",
       "      <td>4</td>\n",
       "      <td>All sentences</td>\n",
       "    </tr>\n",
       "    <tr>\n",
       "      <th>4</th>\n",
       "      <td>4</td>\n",
       "      <td>All sentences</td>\n",
       "    </tr>\n",
       "    <tr>\n",
       "      <th>...</th>\n",
       "      <td>...</td>\n",
       "      <td>...</td>\n",
       "    </tr>\n",
       "    <tr>\n",
       "      <th>222</th>\n",
       "      <td>4</td>\n",
       "      <td>All sentences</td>\n",
       "    </tr>\n",
       "    <tr>\n",
       "      <th>223</th>\n",
       "      <td>6</td>\n",
       "      <td>All sentences</td>\n",
       "    </tr>\n",
       "    <tr>\n",
       "      <th>224</th>\n",
       "      <td>2</td>\n",
       "      <td>All sentences</td>\n",
       "    </tr>\n",
       "    <tr>\n",
       "      <th>225</th>\n",
       "      <td>4</td>\n",
       "      <td>All sentences</td>\n",
       "    </tr>\n",
       "    <tr>\n",
       "      <th>226</th>\n",
       "      <td>5</td>\n",
       "      <td>All sentences</td>\n",
       "    </tr>\n",
       "  </tbody>\n",
       "</table>\n",
       "<p>227 rows × 2 columns</p>\n",
       "</div>"
      ],
      "text/plain": [
       "     Number of letters       Paradigm\n",
       "0                    5  All sentences\n",
       "1                    7  All sentences\n",
       "2                    3  All sentences\n",
       "3                    4  All sentences\n",
       "4                    4  All sentences\n",
       "..                 ...            ...\n",
       "222                  4  All sentences\n",
       "223                  6  All sentences\n",
       "224                  2  All sentences\n",
       "225                  4  All sentences\n",
       "226                  5  All sentences\n",
       "\n",
       "[227 rows x 2 columns]"
      ]
     },
     "execution_count": 10,
     "metadata": {},
     "output_type": "execute_result"
    }
   ],
   "source": [
    "plt_df[plt_df.Paradigm == 'All sentences']"
   ]
  },
  {
   "cell_type": "code",
   "execution_count": null,
   "id": "94aa518a-30bb-4e76-8ec4-84ea394554a5",
   "metadata": {},
   "outputs": [],
   "source": []
  }
 ],
 "metadata": {
  "kernelspec": {
   "display_name": "Python 3 (ipykernel)",
   "language": "python",
   "name": "python3"
  },
  "language_info": {
   "codemirror_mode": {
    "name": "ipython",
    "version": 3
   },
   "file_extension": ".py",
   "mimetype": "text/x-python",
   "name": "python",
   "nbconvert_exporter": "python",
   "pygments_lexer": "ipython3",
   "version": "3.9.13"
  }
 },
 "nbformat": 4,
 "nbformat_minor": 5
}
