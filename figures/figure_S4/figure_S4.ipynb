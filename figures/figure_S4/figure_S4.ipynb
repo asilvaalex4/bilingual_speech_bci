{
 "cells": [
  {
   "cell_type": "code",
   "execution_count": 1,
   "id": "68d22bf8-1cc1-4b60-8184-636778ab004b",
   "metadata": {},
   "outputs": [],
   "source": [
    "import pandas as pd\n",
    "# load the source data for each panel \n",
    "plt_df = pd.read_excel('./figure_S4_sourcedata.xlsx',engine='openpyxl',sheet_name='Panel_a',index_col=0)"
   ]
  },
  {
   "cell_type": "code",
   "execution_count": 2,
   "id": "9c13ea2a-0f36-452f-b7f3-131d57a86cfa",
   "metadata": {},
   "outputs": [
    {
     "name": "stdout",
     "output_type": "stream",
     "text": [
      "p-value annotation legend:\n",
      "ns: 1.00e-02 < p <= 1.00e+00\n",
      "*: 1.00e-03 < p <= 1.00e-02\n",
      "**: 1.00e-04 < p <= 1.00e-03\n",
      "****: p <= 1.00e-04\n",
      "\n",
      "All sentences v.s. AAC sentences: Mann-Whitney-Wilcoxon test two-sided with Bonferroni correction, P_val=7.078e-01 U_stat=1.464e+04\n"
     ]
    },
    {
     "data": {
      "image/png": "[encoded data removed]",
      "text/plain": [
       "<Figure size 640x480 with 1 Axes>"
      ]
     },
     "metadata": {},
     "output_type": "display_data"
    }
   ],
   "source": [
    "import matplotlib.pyplot as plt\n",
    "import seaborn as sns\n",
    "import matplotlib as mpl\n",
    "from statannot import add_stat_annotation\n",
    "\n",
    "fig,ax = plt.subplots()\n",
    "pvalue_thresholds = [[1e-4, \"****\"], [0.001, \"**\"], [0.01, \"*\"], [1, \"ns\"]]\n",
    "mpl.rcParams['axes.spines.top'] = False\n",
    "mpl.rcParams['axes.spines.right'] = False\n",
    "mpl.rcParams['font.sans-serif'] = ['Arial']\n",
    "plt.rcParams.update({'font.size': 10})\n",
    "\n",
    "\n",
    "sns.boxplot(ax=ax, data=plt_df,x='Paradigm',y='Number of letters',color=sns.color_palette().as_hex()[0],boxprops={'alpha':0.8})\n",
    "\n",
    "test_results = add_stat_annotation(ax, data=plt_df,x='Paradigm',y='Number of letters',\n",
    "                                   box_pairs = [ ('All sentences','AAC sentences')], \n",
    "                                   test='Mann-Whitney', text_format='star',\n",
    "                                   loc='inside', verbose=2,line_offset=0.12,pvalue_thresholds=pvalue_thresholds)\n",
    "\n",
    "\n",
    "sns.despine(ax=ax, offset=dict(left=5, bottom=5))\n",
    "ax.set_ylim([0,12])\n",
    "ax.set_yticks([0,4,8,12])\n",
    "ax.set_ylabel('Number of letters per word')\n",
    "ax.set_xlabel('')\n",
    "plt.savefig('./figure_S4.jpg',dpi=300)"
   ]
  },
  {
   "cell_type": "code",
   "execution_count": 3,
   "id": "b648a9a6-5664-4760-aa1c-e721ac674473",
   "metadata": {},
   "outputs": [
    {
     "data": {
      "text/plain": [
       "MannwhitneyuResult(statistic=14640.5, pvalue=0.707815591173872)"
      ]
     },
     "execution_count": 3,
     "metadata": {},
     "output_type": "execute_result"
    }
   ],
   "source": [
    "from scipy.stats import mannwhitneyu\n",
    "mannwhitneyu(plt_df[plt_df.Paradigm == 'All sentences']['Number of letters'].values\n",
    "             ,plt_df[plt_df.Paradigm == 'AAC sentences']['Number of letters'].values)"
   ]
  },
  {
   "cell_type": "code",
   "execution_count": null,
   "id": "8e5dea01-0a4f-4b0a-88f1-ea5a7f75eb87",
   "metadata": {},
   "outputs": [],
   "source": []
  }
 ],
 "metadata": {
  "kernelspec": {
   "display_name": "Python 3 (ipykernel)",
   "language": "python",
   "name": "python3"
  },
  "language_info": {
   "codemirror_mode": {
    "name": "ipython",
    "version": 3
   },
   "file_extension": ".py",
   "mimetype": "text/x-python",
   "name": "python",
   "nbconvert_exporter": "python",
   "pygments_lexer": "ipython3",
   "version": "3.9.13"
  }
 },
 "nbformat": 4,
 "nbformat_minor": 5
}
