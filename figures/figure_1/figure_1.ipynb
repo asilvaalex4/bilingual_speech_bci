{
 "cells": [
  {
   "cell_type": "code",
   "execution_count": 15,
   "id": "44295f8b-50f6-4e6b-a62d-0704116dffb4",
   "metadata": {},
   "outputs": [],
   "source": [
    "import pandas as pd\n",
    "# load the source data for each panel \n",
    "panel_b = pd.read_excel('./fig1_sourcedata.xlsx',engine='openpyxl',sheet_name='Panel_b',index_col=0)\n",
    "panel_c = pd.read_excel('./fig1_sourcedata.xlsx',engine='openpyxl',sheet_name='Panel_c',index_col=0)\n",
    "panel_d = pd.read_excel('./fig1_sourcedata.xlsx',engine='openpyxl',sheet_name='Panel_d',index_col=0)\n",
    "panel_e = pd.read_excel('./fig1_sourcedata.xlsx',engine='openpyxl',sheet_name='Panel_e',index_col=0)\n",
    "panel_f = pd.read_excel('./fig1_sourcedata.xlsx',engine='openpyxl',sheet_name='Panel_f',index_col=0)\n",
    "panel_g = pd.read_excel('./fig1_sourcedata.xlsx',engine='openpyxl',sheet_name='Panel_g',index_col=0)"
   ]
  },
  {
   "cell_type": "code",
   "execution_count": 22,
   "id": "6c7a0e30-a373-4d65-ac17-455aa4143939",
   "metadata": {},
   "outputs": [
    {
     "data": {
      "text/html": [
       "<div>\n",
       "<style scoped>\n",
       "    .dataframe tbody tr th:only-of-type {\n",
       "        vertical-align: middle;\n",
       "    }\n",
       "\n",
       "    .dataframe tbody tr th {\n",
       "        vertical-align: top;\n",
       "    }\n",
       "\n",
       "    .dataframe thead th {\n",
       "        text-align: right;\n",
       "    }\n",
       "</style>\n",
       "<table border=\"1\" class=\"dataframe\">\n",
       "  <thead>\n",
       "    <tr style=\"text-align: right;\">\n",
       "      <th></th>\n",
       "      <th>wpm</th>\n",
       "    </tr>\n",
       "  </thead>\n",
       "  <tbody>\n",
       "    <tr>\n",
       "      <th>0</th>\n",
       "      <td>17.142857</td>\n",
       "    </tr>\n",
       "  </tbody>\n",
       "</table>\n",
       "</div>"
      ],
      "text/plain": [
       "         wpm\n",
       "0  17.142857"
      ]
     },
     "execution_count": 22,
     "metadata": {},
     "output_type": "execute_result"
    }
   ],
   "source": [
    "panel_d"
   ]
  },
  {
   "cell_type": "code",
   "execution_count": 19,
   "id": "30de28ea-116b-4697-8121-fa2363ab7a65",
   "metadata": {},
   "outputs": [
    {
     "data": {
      "text/html": [
       "<div>\n",
       "<style scoped>\n",
       "    .dataframe tbody tr th:only-of-type {\n",
       "        vertical-align: middle;\n",
       "    }\n",
       "\n",
       "    .dataframe tbody tr th {\n",
       "        vertical-align: top;\n",
       "    }\n",
       "\n",
       "    .dataframe thead th {\n",
       "        text-align: right;\n",
       "    }\n",
       "</style>\n",
       "<table border=\"1\" class=\"dataframe\">\n",
       "  <thead>\n",
       "    <tr style=\"text-align: right;\">\n",
       "      <th></th>\n",
       "      <th>WER</th>\n",
       "      <th>lang</th>\n",
       "      <th>Metric</th>\n",
       "    </tr>\n",
       "  </thead>\n",
       "  <tbody>\n",
       "    <tr>\n",
       "      <th>0</th>\n",
       "      <td>33.333333</td>\n",
       "      <td>english</td>\n",
       "      <td>Real-time</td>\n",
       "    </tr>\n",
       "    <tr>\n",
       "      <th>1</th>\n",
       "      <td>22.222222</td>\n",
       "      <td>english</td>\n",
       "      <td>Real-time</td>\n",
       "    </tr>\n",
       "    <tr>\n",
       "      <th>2</th>\n",
       "      <td>0.000000</td>\n",
       "      <td>english</td>\n",
       "      <td>Real-time</td>\n",
       "    </tr>\n",
       "    <tr>\n",
       "      <th>3</th>\n",
       "      <td>6.666667</td>\n",
       "      <td>english</td>\n",
       "      <td>Real-time</td>\n",
       "    </tr>\n",
       "    <tr>\n",
       "      <th>4</th>\n",
       "      <td>0.000000</td>\n",
       "      <td>english</td>\n",
       "      <td>Real-time</td>\n",
       "    </tr>\n",
       "  </tbody>\n",
       "</table>\n",
       "</div>"
      ],
      "text/plain": [
       "         WER     lang     Metric\n",
       "0  33.333333  english  Real-time\n",
       "1  22.222222  english  Real-time\n",
       "2   0.000000  english  Real-time\n",
       "3   6.666667  english  Real-time\n",
       "4   0.000000  english  Real-time"
      ]
     },
     "execution_count": 19,
     "metadata": {},
     "output_type": "execute_result"
    }
   ],
   "source": [
    "panel_g.head()"
   ]
  },
  {
   "cell_type": "code",
   "execution_count": null,
   "id": "3fb5b60d-086c-4ff1-9460-957f0a4412f2",
   "metadata": {},
   "outputs": [],
   "source": []
  },
  {
   "cell_type": "code",
   "execution_count": 24,
   "id": "7e837848-9191-494f-9329-cdf762d75052",
   "metadata": {},
   "outputs": [
    {
     "name": "stderr",
     "output_type": "stream",
     "text": [
      "/tmp/ipykernel_1196377/2775319652.py:74: UserWarning: Numpy array is not a supported type for `palette`. Please convert your palette to a list. This will become an error in v0.14\n",
      "  sns.boxplot(data=panel_b,x='lang',y='WER',hue='Metric',hue_order=['Chance','Neural-only','Real-time'],order=['overall','spanish','english'],ax=ax,palette=a)\n",
      "/tmp/ipykernel_1196377/2775319652.py:74: UserWarning: The palette list has more values (8) than needed (3), which may not be intended.\n",
      "  sns.boxplot(data=panel_b,x='lang',y='WER',hue='Metric',hue_order=['Chance','Neural-only','Real-time'],order=['overall','spanish','english'],ax=ax,palette=a)\n",
      "/tmp/ipykernel_1196377/2775319652.py:78: UserWarning: FixedFormatter should only be used together with FixedLocator\n",
      "  ax.set_xticklabels(['All phrases','Spanish','English'])\n",
      "/tmp/ipykernel_1196377/2775319652.py:86: FutureWarning: \n",
      "\n",
      "Passing `palette` without assigning `hue` is deprecated and will be removed in v0.14.0. Assign the `x` variable to `hue` and set `legend=False` for the same effect.\n",
      "\n",
      "  sns.boxplot(data=panel_c,x='paradigm',y='Acc',ax=ax,whis=1,order=['Chance','Neural-only','Real-time'],palette=a)\n",
      "/tmp/ipykernel_1196377/2775319652.py:86: UserWarning: Numpy array is not a supported type for `palette`. Please convert your palette to a list. This will become an error in v0.14\n",
      "  sns.boxplot(data=panel_c,x='paradigm',y='Acc',ax=ax,whis=1,order=['Chance','Neural-only','Real-time'],palette=a)\n",
      "/tmp/ipykernel_1196377/2775319652.py:86: UserWarning: The palette list has more values (8) than needed (3), which may not be intended.\n",
      "  sns.boxplot(data=panel_c,x='paradigm',y='Acc',ax=ax,whis=1,order=['Chance','Neural-only','Real-time'],palette=a)\n",
      "/tmp/ipykernel_1196377/2775319652.py:99: UserWarning: Numpy array is not a supported type for `palette`. Please convert your palette to a list. This will become an error in v0.14\n",
      "  sns.boxplot(data=panel_g,x='lang',y='WER',hue='Metric',hue_order=['Chance','Real-time'],ax=ax,order=['overall','spanish','english'],palette=a[[0,2]])\n",
      "/tmp/ipykernel_1196377/2775319652.py:104: UserWarning: FixedFormatter should only be used together with FixedLocator\n",
      "  ax.set_xticklabels(['All phrases','Spanish','English'])\n",
      "/tmp/ipykernel_1196377/2775319652.py:112: FutureWarning: \n",
      "\n",
      "Passing `palette` without assigning `hue` is deprecated and will be removed in v0.14.0. Assign the `x` variable to `hue` and set `legend=False` for the same effect.\n",
      "\n",
      "  sns.barplot(data=panel_d, y='wpm',ax=ax,palette=a[2:])\n",
      "/tmp/ipykernel_1196377/2775319652.py:112: UserWarning: Numpy array is not a supported type for `palette`. Please convert your palette to a list. This will become an error in v0.14\n",
      "  sns.barplot(data=panel_d, y='wpm',ax=ax,palette=a[2:])\n",
      "/tmp/ipykernel_1196377/2775319652.py:112: UserWarning: The palette list has more values (6) than needed (1), which may not be intended.\n",
      "  sns.barplot(data=panel_d, y='wpm',ax=ax,palette=a[2:])\n",
      "/tmp/ipykernel_1196377/2775319652.py:128: UserWarning: FixedFormatter should only be used together with FixedLocator\n",
      "  ax.set_xticklabels(['Yes','No'])\n",
      "/tmp/ipykernel_1196377/2775319652.py:140: FutureWarning: \n",
      "\n",
      "The `ci` parameter is deprecated. Use `errorbar=('ci', 99)` for the same effect.\n",
      "\n",
      "  sns.barplot(data=panel_e,x='Word',y='Accuracy',color=hex_col[2],ci=99)\n",
      "/tmp/ipykernel_1196377/2775319652.py:141: UserWarning: FixedFormatter should only be used together with FixedLocator\n",
      "  ax.set_xticklabels(range(1,7))\n"
     ]
    },
    {
     "data": {
      "image/png": "[encoded data removed]",
      "text/plain": [
       "<Figure size 800x444.444 with 6 Axes>"
      ]
     },
     "metadata": {},
     "output_type": "display_data"
    }
   ],
   "source": [
    "# Computes and plots the dendrogram\n",
    "import seaborn as sns\n",
    "import matplotlib.font_manager\n",
    "import matplotlib.pyplot as plt\n",
    "import matplotlib as mpl\n",
    "import numpy as np\n",
    "import pandas as pd\n",
    "from RT.util import fileHandler\n",
    "from gimutil.visualization import plotting_tools\n",
    "# set plotting parameters\n",
    "plt.rcParams.update({'font.size': 6})\n",
    "plt.rcParams.update({'font.sans-serif':'Arial'})\n",
    "mpl.rcParams['axes.spines.top'] = False\n",
    "mpl.rcParams['axes.spines.right'] = False\n",
    "plt.rcParams['svg.fonttype'] = 'none'\n",
    "\n",
    "\n",
    "# Specifies plot parameters\n",
    "rows = {\n",
    "    'wer_start' : 0,\n",
    "    'wer_stop'  : 225,\n",
    "    'lang_start' : 0,\n",
    "    'lang_stop' : 225,\n",
    "    'force_start': 325,\n",
    "    'force_stop' : 550,\n",
    "    'total'      : 550,\n",
    "}\n",
    "cols = {\n",
    "    'wer_start' : 0,\n",
    "    'wer_stop'  : 350,#320\n",
    "    'lang_start' : 420,#400\n",
    "    'lang_stop' : 520,#500\n",
    "    'wpm_start' : 580,\n",
    "    'wpm_stop'  : 620,\n",
    "    'beams_start': 180,#370,\n",
    "    'beams_stop': 380,#470,\n",
    "    'step_start': 0,#520,\n",
    "    'step_stop' : 120,#620,\n",
    "    'werforce_start': 440,\n",
    "    'werforce_stop': 620,\n",
    "    'total'      : 620\n",
    "}\n",
    "all_panel_params = {\n",
    "    'wer' : {'row_and_col_spec' : ('wer', 'wer')},\n",
    "    'lang'  : {'row_and_col_spec' : ('lang', 'lang')},\n",
    "    'force_wer'           : {'row_and_col_spec' : ('force', 'werforce')},\n",
    "    'wpm'           : {'row_and_col_spec' : ('wer', 'wpm')},\n",
    "    'beams'           : {'row_and_col_spec' : ('force', 'beams')},\n",
    "    'step'           : {'row_and_col_spec' : ('force', 'step')}\n",
    "}\n",
    "\n",
    "\n",
    "# AAC calculation\n",
    "import numpy as np\n",
    "aac_speed = 3.97\n",
    "\n",
    "\n",
    "a = sns.color_palette(\"Set2\")\n",
    "hex_col = a.as_hex()\n",
    "a = np.array(a)\n",
    "\n",
    "\n",
    "w_to_h = 1.8\n",
    "width = 8\n",
    "# Creates the plot\n",
    "fig, axs = plotting_tools.setup_figure(\n",
    "    all_panel_params=all_panel_params, row_specs=rows, col_specs=cols,dpi=100,\n",
    "    figsize=(width,width/w_to_h)\n",
    ")\n",
    "\n",
    "\n",
    "# plot wers \n",
    "ax = axs['wer']\n",
    "sns.boxplot(data=panel_b,x='lang',y='WER',hue='Metric',hue_order=['Chance','Neural-only','Real-time'],order=['overall','spanish','english'],ax=ax,palette=a)\n",
    "ax.set_xlabel('')\n",
    "ax.set_ylabel('Word error rate (%)')\n",
    "ax.set_ylim([0,120])\n",
    "ax.set_xticklabels(['All phrases','Spanish','English'])\n",
    "sns.despine(ax=ax, offset=dict(left=5, bottom=5))\n",
    "plt.setp(ax.collections, clip_on=False)\n",
    "plt.setp(ax.lines, clip_on=False, zorder=5)\n",
    "\n",
    "\n",
    "# plot the language accuracy\n",
    "ax = axs['lang']\n",
    "sns.boxplot(data=panel_c,x='paradigm',y='Acc',ax=ax,whis=1,order=['Chance','Neural-only','Real-time'],palette=a)\n",
    "ax.axhline(50,color='k',linestyle='--')\n",
    "ax.set_ylabel('Language accuracy (%)')\n",
    "ax.set_xticks([])\n",
    "ax.set_xlabel('')\n",
    "ax.set_ylim([0,100])\n",
    "ax.spines['bottom'].set_visible(False)\n",
    "ax.xaxis.set_tick_params(length=0)\n",
    "plt.setp(ax.collections, clip_on=False)\n",
    "plt.setp(ax.lines, clip_on=False, zorder=5)\n",
    "\n",
    "# plot the force WER accuracy\n",
    "ax = axs['force_wer']\n",
    "sns.boxplot(data=panel_g,x='lang',y='WER',hue='Metric',hue_order=['Chance','Real-time'],ax=ax,order=['overall','spanish','english'],palette=a[[0,2]])\n",
    "ax.set_xlabel('')\n",
    "ax.set_ylabel('Language set word error rate (%)')\n",
    "ax.legend([],[], frameon=False)\n",
    "ax.set_ylim([0,120])\n",
    "ax.set_xticklabels(['All phrases','Spanish','English'])\n",
    "sns.despine(ax=ax, offset=dict(left=5, bottom=5))\n",
    "plt.setp(ax.collections, clip_on=False)\n",
    "plt.setp(ax.lines, clip_on=False, zorder=5)\n",
    "\n",
    "\n",
    "# plot the wpm\n",
    "ax = axs['wpm']\n",
    "sns.barplot(data=panel_d, y='wpm',ax=ax,palette=a[2:])\n",
    "ax.set_xlabel('')\n",
    "ax.set_ylabel('Words per minute')\n",
    "ax.set_xticks([])\n",
    "ax.set_ylim([3,21])\n",
    "ax.set_yticks([3,9,15,21])\n",
    "plt.setp(ax.collections, clip_on=False)\n",
    "plt.setp(ax.lines, clip_on=False, zorder=5)\n",
    "ax.axhline(aac_speed,linestyle='--',color='k')\n",
    "\n",
    "\n",
    "# plot the beams \n",
    "ax = axs['beams']\n",
    "seaborn_legend  = sns.boxplot(data=panel_f,x='correct_decode',y='score',hue='target-lang',ax=ax,order=[True,False],\n",
    "                              palette=[hex_col[2],'#bfbbbb'])#hex_col[2][0] + '0D' + hex_col[2][1:]])\n",
    "ax.set_xlabel('Correct language decoded')\n",
    "ax.set_xticklabels(['Yes','No'])\n",
    "ax.set_ylabel('Sentence likelihood (0-1)')\n",
    "ax.legend().set_title('')\n",
    "ax.set_ylim([0,1])\n",
    "sns.despine(ax=ax, offset=dict(left=10, bottom=10))\n",
    "ax.set_clip_on(False)\n",
    "plt.setp(ax.collections, clip_on=False)\n",
    "plt.setp(ax.lines, clip_on=False, zorder=5)\n",
    "\n",
    "\n",
    "# plot the accuracy as func of step \n",
    "ax = axs['step']\n",
    "sns.barplot(data=panel_e,x='Word',y='Accuracy',color=hex_col[2],ci=99)\n",
    "ax.set_xticklabels(range(1,7))\n",
    "ax.set_xlabel('Word position of\\nlanguage finalization')\n",
    "ax.set_ylabel('Language Accuracy (%)')\n",
    "ax.axhline(50,linestyle='--',color='k')\n",
    "ax.set_ylim([0,100])\n",
    "\n",
    "\n",
    "\n",
    "plt.savefig('fig_1_nbme.svg',bbox_inches='tight')\n",
    "plt.show()"
   ]
  },
  {
   "cell_type": "code",
   "execution_count": 18,
   "id": "9647e829-3b73-44f7-91c4-6a37e72f4296",
   "metadata": {},
   "outputs": [
    {
     "data": {
      "text/plain": [
       "MannwhitneyuResult(statistic=759.5, pvalue=0.9083694008843546)"
      ]
     },
     "execution_count": 18,
     "metadata": {},
     "output_type": "execute_result"
    }
   ],
   "source": [
    "from scipy.stats import mannwhitneyu\n",
    "#Off-target language\n",
    "mannwhitneyu(d['score'][(d['correct_decode']) & (d['target-lang'] == 'Target language')],\n",
    "             d['score'][np.logical_not(d['correct_decode']) & (d['target-lang'] == 'Target language')])\n",
    "\n",
    "#seaborn_legend  = sns.boxplot(data=d,x='correct_decode',y='score',hue='target-lang',ax=ax,order=[True,False],\n"
   ]
  },
  {
   "cell_type": "code",
   "execution_count": 20,
   "id": "d6cc2d30-b8da-4b95-a548-86b0ee53c09a",
   "metadata": {},
   "outputs": [
    {
     "name": "stdout",
     "output_type": "stream",
     "text": [
      "0.25\n",
      "0.16666666666666666\n",
      "0.36363636363636365\n",
      "\n",
      "0.26666666666666666\n",
      "0.18181818181818182\n",
      "0.3333333333333333\n",
      "\n",
      "0.2222222222222222\n",
      "0.07142857142857142\n",
      "0.4444444444444444\n",
      "NEURAL ONLY\n",
      "0.70625\n",
      "0.61875\n",
      "0.78125\n",
      "\n",
      "0.5249999999999999\n",
      "0.4041666666666667\n",
      "0.6166666666666667\n",
      "\n",
      "0.55\n",
      "0.4625\n",
      "0.6875\n",
      "\n",
      "\n",
      "overall\n",
      "\n",
      "spanish\n",
      "\n",
      "english\n"
     ]
    }
   ],
   "source": [
    "# plot wers \n",
    "from statsmodels.stats.multitest import multipletests\n",
    "chance = fileHandler.loadPickle('./chance_dists_t_shuff.pkl')\n",
    "\n",
    "ax = axs['wer']\n",
    "chance_ = {}\n",
    "chance_['english'] = chance['eng_wer']\n",
    "chance_['spanish'] = chance['spa_wer']\n",
    "chance_['overall'] = chance['wer']\n",
    "all_vals = []\n",
    "all_langs = []\n",
    "for key in chance_.keys():\n",
    "    arr = chance_[key]\n",
    "    for val in arr:\n",
    "        all_vals.append(val)\n",
    "        all_langs.append(key)\n",
    "df_chance = {}\n",
    "df_chance['WER'] = all_vals\n",
    "df_chance['lang'] = all_langs\n",
    "df_chance['Metric'] = 'Chance'\n",
    "df_chance = pd.DataFrame(df_chance)\n",
    "\n",
    "df = fileHandler.loadPickle('./overall_wers.pkl')\n",
    "df['Metric'] = 'Real-time'\n",
    "df_neural = fileHandler.loadPickle('./neural_only.pkl')\n",
    "df_neural['Metric'] = 'Neural-only'\n",
    "overall_df = pd.concat((df,df_neural,df_chance))\n",
    "straps = np.array(bootstrap(df['WER'][df['lang']=='overall'] ))\n",
    "print(np.median(df['WER'][df['lang']=='overall'] ))\n",
    "print(np.percentile(straps,0.5))\n",
    "print(np.percentile(straps,99.5)) \n",
    "print('')\n",
    "\n",
    "straps = np.array(bootstrap(df['WER'][df['lang']=='spanish'] ))\n",
    "print(np.median(df['WER'][df['lang']=='spanish'] ))\n",
    "\n",
    "print(np.percentile(straps,0.5))\n",
    "print(np.percentile(straps,99.5)) \n",
    "print('')\n",
    "\n",
    "straps = np.array(bootstrap(df['WER'][df['lang']=='english'] ))\n",
    "print(np.median(df['WER'][df['lang']=='english'] ))\n",
    "\n",
    "print(np.percentile(straps,0.5))\n",
    "print(np.percentile(straps,99.5)) \n",
    "print('NEURAL ONLY')\n",
    "\n",
    "df = df_neural.copy()\n",
    "straps = np.array(bootstrap(df['WER'][df['lang']=='overall'] ))\n",
    "print(np.median(df['WER'][df['lang']=='overall'] ))\n",
    "print(np.percentile(straps,0.5))\n",
    "print(np.percentile(straps,99.5)) \n",
    "print('')\n",
    "\n",
    "straps = np.array(bootstrap(df['WER'][df['lang']=='spanish'] ))\n",
    "print(np.median(df['WER'][df['lang']=='spanish'] ))\n",
    "\n",
    "print(np.percentile(straps,0.5))\n",
    "print(np.percentile(straps,99.5)) \n",
    "print('')\n",
    "\n",
    "straps = np.array(bootstrap(df['WER'][df['lang']=='english'] ))\n",
    "print(np.median(df['WER'][df['lang']=='english'] ))\n",
    "\n",
    "print(np.percentile(straps,0.5))\n",
    "print(np.percentile(straps,99.5)) \n",
    "print('')\n",
    "\n",
    "\n",
    "from scipy.stats import wilcoxon,ranksums,mannwhitneyu\n",
    "d = {'Language': [], 'Paradigm 1': [], 'Paradigm 2': [], 'Test-statistic': [], 'P-value': []} \n",
    "compares = [('Chance','Neural-only'),('Chance','Real-time'),('Neural-only','Real-time')]\n",
    "langs = ['overall','spanish','english']\n",
    "all_ps = []\n",
    "for lang in langs:\n",
    "    print()\n",
    "    print(lang)\n",
    "    for compare in compares:\n",
    "        d['Language'].append(lang.capitalize())\n",
    "        d['Paradigm 1'].append(compare[0])\n",
    "        d['Paradigm 2'].append(compare[1])\n",
    "    \n",
    "        result = mannwhitneyu(overall_df['WER'][(overall_df['lang'] == lang) & (overall_df['Metric'] == compare[0])],\n",
    "                 overall_df['WER'][(overall_df['lang'] == lang) & (overall_df['Metric'] == compare[1])])\n",
    "        d['Test-statistic'].append(result[0])\n",
    "        d['P-value'].append(result[1])\n",
    "\n",
    "d = pd.DataFrame(d)\n",
    "d['P-value'] = multipletests(d['P-value'].values,alpha=0.01,method='holm')[1]"
   ]
  },
  {
   "cell_type": "code",
   "execution_count": 21,
   "id": "b32d4b95-ce4c-48be-bc88-abba0f89933a",
   "metadata": {},
   "outputs": [
    {
     "data": {
      "text/plain": [
       "21"
      ]
     },
     "execution_count": 21,
     "metadata": {},
     "output_type": "execute_result"
    }
   ],
   "source": [
    "len(overall_df['WER'][(overall_df['lang'] == lang) & (overall_df['Metric'] == compare[0])])"
   ]
  },
  {
   "cell_type": "code",
   "execution_count": 22,
   "id": "a8105ae7-7e75-4e5c-86d0-5f16b3e6bde4",
   "metadata": {},
   "outputs": [
    {
     "name": "stdout",
     "output_type": "stream",
     "text": [
      "\\begin{tabular}{lllrr}\n",
      "\\toprule\n",
      "Language &  Paradigm 1 &  Paradigm 2 &  Test-statistic &  P-value \\\\\n",
      "\\midrule\n",
      " Overall &      Chance & Neural-only &        4.41e+02 & 1.91e-07 \\\\\n",
      " Overall &      Chance &   Real-time &        4.41e+02 & 1.91e-07 \\\\\n",
      " Overall & Neural-only &   Real-time &        4.40e+02 & 1.91e-07 \\\\\n",
      " Spanish &      Chance & Neural-only &        4.41e+02 & 1.91e-07 \\\\\n",
      " Spanish &      Chance &   Real-time &        4.41e+02 & 1.91e-07 \\\\\n",
      " Spanish & Neural-only &   Real-time &        4.13e+02 & 2.66e-06 \\\\\n",
      " English &      Chance & Neural-only &        4.40e+02 & 1.91e-07 \\\\\n",
      " English &      Chance &   Real-time &        4.41e+02 & 1.91e-07 \\\\\n",
      " English & Neural-only &   Real-time &        3.74e+02 & 1.24e-04 \\\\\n",
      "\\bottomrule\n",
      "\\end{tabular}\n",
      "\n"
     ]
    },
    {
     "name": "stderr",
     "output_type": "stream",
     "text": [
      "/tmp/ipykernel_111493/3706759632.py:1: FutureWarning: In future versions `DataFrame.to_latex` is expected to utilise the base implementation of `Styler.to_latex` for formatting and rendering. The arguments signature may therefore change. It is recommended instead to use `DataFrame.style.to_latex` which also contains additional functionality.\n",
      "  print(d.to_latex(index=False,float_format=\"{:0.2e}\".format))\n"
     ]
    }
   ],
   "source": [
    "print(d.to_latex(index=False,float_format=\"{:0.2e}\".format))  "
   ]
  },
  {
   "cell_type": "code",
   "execution_count": 23,
   "id": "4d86f78f-f66c-4631-9f1f-691f99f8db48",
   "metadata": {},
   "outputs": [
    {
     "name": "stdout",
     "output_type": "stream",
     "text": [
      "87.5\n",
      "85.71428571428571\n",
      "100.0\n",
      "\n"
     ]
    }
   ],
   "source": [
    "df = fileHandler.loadPickle('./language_acc_new.pkl')\n",
    "import pandas as pd\n",
    "df_lang_chance = pd.DataFrame()\n",
    "df_lang_chance['Acc'] = chance['lang_acc']\n",
    "df_lang_chance['paradigm'] = 'Chance'\n",
    "df = pd.concat((df,df_lang_chance))\n",
    "df['Acc'] *= 100\n",
    "overall_df = df.copy()\n",
    "straps = np.array(bootstrap(df['Acc'][df['paradigm']=='Real-time'] ))\n",
    "print(np.median(df['Acc'][df['paradigm']=='Real-time'] ))\n",
    "\n",
    "print(np.percentile(straps,0.5))\n",
    "print(np.percentile(straps,99.5)) \n",
    "print('')\n",
    "\n",
    "\n",
    "from scipy.stats import wilcoxon,ranksums\n",
    "d = {'Evaluation 1': [], 'Evaluation 2': [], 'Test-statistic': [], 'P-value': []} \n",
    "compares = [('Chance','Neural-only'),('Chance','Real-time'),('Neural-only','Real-time')]\n",
    "\n",
    "for compare in compares:\n",
    "    d['Evaluation 1'].append(compare[0])\n",
    "    d['Evaluation 2'].append(compare[1])\n",
    "\n",
    "    result = mannwhitneyu(overall_df['Acc'][(overall_df['paradigm'] == compare[0])],\n",
    "             overall_df['Acc'][(overall_df['paradigm'] == compare[1])])\n",
    "    d['Test-statistic'].append(result[0])\n",
    "    d['P-value'].append(result[1])\n",
    "\n",
    "d = pd.DataFrame(d)\n",
    "d['P-value'] = multipletests(d['P-value'].values,alpha=0.01,method='holm')[1]\n"
   ]
  },
  {
   "cell_type": "code",
   "execution_count": 24,
   "id": "3df15c38-6c6a-4007-88b4-4f2ca819c859",
   "metadata": {},
   "outputs": [
    {
     "name": "stdout",
     "output_type": "stream",
     "text": [
      "\\begin{tabular}{llrr}\n",
      "\\toprule\n",
      "Evaluation 1 & Evaluation 2 &  Test-statistic &  P-value \\\\\n",
      "\\midrule\n",
      "      Chance &  Neural-only &        1.05e+02 & 4.79e-03 \\\\\n",
      "      Chance &    Real-time &        1.50e+01 & 5.44e-07 \\\\\n",
      " Neural-only &    Real-time &        1.02e+02 & 4.79e-03 \\\\\n",
      "\\bottomrule\n",
      "\\end{tabular}\n",
      "\n"
     ]
    },
    {
     "name": "stderr",
     "output_type": "stream",
     "text": [
      "/tmp/ipykernel_111493/3706759632.py:1: FutureWarning: In future versions `DataFrame.to_latex` is expected to utilise the base implementation of `Styler.to_latex` for formatting and rendering. The arguments signature may therefore change. It is recommended instead to use `DataFrame.style.to_latex` which also contains additional functionality.\n",
      "  print(d.to_latex(index=False,float_format=\"{:0.2e}\".format))\n"
     ]
    }
   ],
   "source": [
    "print(d.to_latex(index=False,float_format=\"{:0.2e}\".format))  "
   ]
  },
  {
   "cell_type": "code",
   "execution_count": 25,
   "id": "1393ed59-2a5a-4d55-9e97-ed8e62f52929",
   "metadata": {},
   "outputs": [
    {
     "name": "stdout",
     "output_type": "stream",
     "text": [
      "21.875\n",
      "16.666666666666664\n",
      "27.586206896551722\n",
      "\n",
      "20.0\n",
      "16.666666666666664\n",
      "28.57142857142857\n",
      "\n",
      "20.0\n",
      "6.666666666666667\n",
      "33.33333333333333\n",
      "\n",
      "overall\n",
      "\n",
      "spanish\n",
      "\n",
      "english\n"
     ]
    }
   ],
   "source": [
    "df = fileHandler.loadPickle('./force_wers.pkl')\n",
    "df['Metric'] = 'Real-time'\n",
    "df['WER'] = df['WER'].values*100\n",
    "chance_ = {}\n",
    "chance_['english'] = chance['eng_wer_set']\n",
    "chance_['spanish'] = chance['spa_wer_set']\n",
    "chance_['overall'] = chance['wer_set']\n",
    "all_vals = []\n",
    "all_langs = []\n",
    "for key in chance_.keys():\n",
    "    arr = chance_[key]\n",
    "    for val in arr:\n",
    "        all_vals.append(val)\n",
    "        all_langs.append(key)\n",
    "df_chance = {}\n",
    "df_chance['WER'] = all_vals\n",
    "df_chance['lang'] = all_langs\n",
    "df_chance['Metric'] = 'Chance'\n",
    "df_chance = pd.DataFrame(df_chance)\n",
    "df_chance['WER'] = df_chance['WER']*100\n",
    "\n",
    "\n",
    "\n",
    "straps = np.array(bootstrap(df['WER'][df['lang']=='overall'] ))\n",
    "print(np.median(df['WER'][df['lang']=='overall'] ))\n",
    "print(np.percentile(straps,0.5))\n",
    "print(np.percentile(straps,99.5)) \n",
    "print('')\n",
    "straps = np.array(bootstrap(df['WER'][df['lang']=='spanish'] ))\n",
    "print(np.median(df['WER'][df['lang']=='spanish'] ))\n",
    "\n",
    "print(np.percentile(straps,0.5))\n",
    "print(np.percentile(straps,99.5)) \n",
    "print('')\n",
    "\n",
    "straps = np.array(bootstrap(df['WER'][df['lang']=='english'] ))\n",
    "print(np.median(df['WER'][df['lang']=='english'] ))\n",
    "\n",
    "print(np.percentile(straps,0.5))\n",
    "print(np.percentile(straps,99.5)) \n",
    "df = pd.concat((df,df_chance))\n",
    "\n",
    "overall_df = df.copy()\n",
    "\n",
    "from scipy.stats import wilcoxon,ranksums\n",
    "d = {'Language': [], 'Paradigm 1': [], 'Paradigm 2': [], 'Test-statistic': [], 'P-value': []} \n",
    "compares = [('Chance','Real-time')]\n",
    "langs = ['overall','spanish','english']\n",
    "all_ps = []\n",
    "for lang in langs:\n",
    "    print()\n",
    "    print(lang)\n",
    "    for compare in compares:\n",
    "        d['Language'].append(lang)\n",
    "        d['Paradigm 1'].append(compare[0])\n",
    "        d['Paradigm 2'].append(compare[1])\n",
    "    \n",
    "        result = mannwhitneyu(overall_df['WER'][(overall_df['lang'] == lang) & (overall_df['Metric'] == compare[0])],\n",
    "                 overall_df['WER'][(overall_df['lang'] == lang) & (overall_df['Metric'] == compare[1])])\n",
    "        d['Test-statistic'].append(result[0])\n",
    "        d['P-value'].append(result[1])\n",
    "\n",
    "d = pd.DataFrame(d)\n",
    "d['P-value'] = multipletests(d['P-value'].values,alpha=0.01,method='holm')[1]"
   ]
  },
  {
   "cell_type": "code",
   "execution_count": 26,
   "id": "d027aae5-517a-4ff9-b4fd-477c37746585",
   "metadata": {},
   "outputs": [
    {
     "name": "stdout",
     "output_type": "stream",
     "text": [
      "\\begin{tabular}{lllrr}\n",
      "\\toprule\n",
      "Language & Paradigm 1 & Paradigm 2 &  Test-statistic &  P-value \\\\\n",
      "\\midrule\n",
      " overall &     Chance &  Real-time &        4.41e+02 & 6.41e-08 \\\\\n",
      " spanish &     Chance &  Real-time &        4.41e+02 & 6.41e-08 \\\\\n",
      " english &     Chance &  Real-time &        4.41e+02 & 6.41e-08 \\\\\n",
      "\\bottomrule\n",
      "\\end{tabular}\n",
      "\n"
     ]
    },
    {
     "name": "stderr",
     "output_type": "stream",
     "text": [
      "/tmp/ipykernel_111493/3706759632.py:1: FutureWarning: In future versions `DataFrame.to_latex` is expected to utilise the base implementation of `Styler.to_latex` for formatting and rendering. The arguments signature may therefore change. It is recommended instead to use `DataFrame.style.to_latex` which also contains additional functionality.\n",
      "  print(d.to_latex(index=False,float_format=\"{:0.2e}\".format))\n"
     ]
    }
   ],
   "source": [
    "print(d.to_latex(index=False,float_format=\"{:0.2e}\".format))  "
   ]
  },
  {
   "cell_type": "code",
   "execution_count": 31,
   "id": "e609105f-29fc-4027-a3c0-ff921b75230e",
   "metadata": {},
   "outputs": [
    {
     "name": "stderr",
     "output_type": "stream",
     "text": [
      "/tmp/ipykernel_111493/4175068128.py:6: SettingWithCopyWarning: \n",
      "A value is trying to be set on a copy of a slice from a DataFrame\n",
      "\n",
      "See the caveats in the documentation: https://pandas.pydata.org/pandas-docs/stable/user_guide/indexing.html#returning-a-view-versus-a-copy\n",
      "  d['target-lang'][d['target-lang'] == 'Target'] = 'Target language'\n",
      "/tmp/ipykernel_111493/4175068128.py:7: SettingWithCopyWarning: \n",
      "A value is trying to be set on a copy of a slice from a DataFrame\n",
      "\n",
      "See the caveats in the documentation: https://pandas.pydata.org/pandas-docs/stable/user_guide/indexing.html#returning-a-view-versus-a-copy\n",
      "  d['target-lang'][d['target-lang'] == 'Off-target'] = 'Off-target language'\n"
     ]
    },
    {
     "data": {
      "image/png": "[encoded data removed]",
      "text/plain": [
       "<Figure size 640x480 with 1 Axes>"
      ]
     },
     "metadata": {},
     "output_type": "display_data"
    }
   ],
   "source": [
    "with open('./beam_scores_corr_incorr_decode.pkl','rb') as f:\n",
    "    d = pickle.load(f)\n",
    "fig,ax = plt.subplots()\n",
    "#palette=hex_col[2]\n",
    "d['score'] = scaler.fit_transform(d.score.values.reshape(-1,1))\n",
    "d['target-lang'][d['target-lang'] == 'Target'] = 'Target language'\n",
    "d['target-lang'][d['target-lang'] == 'Off-target'] = 'Off-target language'\n",
    "\n",
    "seaborn_legend  = sns.boxplot(data=d,x='correct_decode',y='score',hue='target-lang',ax=ax,order=[True,False],\n",
    "                              palette=[hex_col[2],'#bfbbbb'])#hex_col[2][0] + '0D' + hex_col[2][1:]])"
   ]
  },
  {
   "cell_type": "code",
   "execution_count": 28,
   "id": "0c62a1d2-da88-4b5c-b5a6-42661ee6fa1c",
   "metadata": {},
   "outputs": [
    {
     "name": "stderr",
     "output_type": "stream",
     "text": [
      "/tmp/ipykernel_111493/4042299361.py:2: UserWarning: Boolean Series key will be reindexed to match DataFrame index.\n",
      "  mannwhitneyu(d[np.logical_not(d['correct_decode'])][d['target-lang'] == 'Target language'].score.values,\n",
      "/tmp/ipykernel_111493/4042299361.py:3: UserWarning: Boolean Series key will be reindexed to match DataFrame index.\n",
      "  d[np.logical_not(d['correct_decode'])][d['target-lang'] == 'Off-target language'].score.values)\n"
     ]
    },
    {
     "data": {
      "text/plain": [
       "MannwhitneyuResult(statistic=60.0, pvalue=0.5066281058229414)"
      ]
     },
     "execution_count": 28,
     "metadata": {},
     "output_type": "execute_result"
    }
   ],
   "source": [
    "from scipy.stats import ranksums\n",
    "mannwhitneyu(d[np.logical_not(d['correct_decode'])][d['target-lang'] == 'Target language'].score.values,\n",
    "             d[np.logical_not(d['correct_decode'])][d['target-lang'] == 'Off-target language'].score.values)"
   ]
  },
  {
   "cell_type": "code",
   "execution_count": 32,
   "id": "55d372cd-1728-4915-a11e-3a3b14cd8369",
   "metadata": {},
   "outputs": [
    {
     "name": "stderr",
     "output_type": "stream",
     "text": [
      "/tmp/ipykernel_111493/3801703651.py:1: UserWarning: Boolean Series key will be reindexed to match DataFrame index.\n",
      "  mannwhitneyu(d[d['correct_decode']][d['target-lang'] == 'Target language'].score.values,\n",
      "/tmp/ipykernel_111493/3801703651.py:2: UserWarning: Boolean Series key will be reindexed to match DataFrame index.\n",
      "  d[d['correct_decode']][d['target-lang'] == 'Off-target language'].score.values)\n"
     ]
    },
    {
     "data": {
      "text/plain": [
       "MannwhitneyuResult(statistic=11177.5, pvalue=6.533119893582141e-10)"
      ]
     },
     "execution_count": 32,
     "metadata": {},
     "output_type": "execute_result"
    }
   ],
   "source": [
    "mannwhitneyu(d[d['correct_decode']][d['target-lang'] == 'Target language'].score.values,\n",
    "             d[d['correct_decode']][d['target-lang'] == 'Off-target language'].score.values)"
   ]
  }
 ],
 "metadata": {
  "kernelspec": {
   "display_name": "Python 3 (ipykernel)",
   "language": "python",
   "name": "python3"
  },
  "language_info": {
   "codemirror_mode": {
    "name": "ipython",
    "version": 3
   },
   "file_extension": ".py",
   "mimetype": "text/x-python",
   "name": "python",
   "nbconvert_exporter": "python",
   "pygments_lexer": "ipython3",
   "version": "3.9.13"
  }
 },
 "nbformat": 4,
 "nbformat_minor": 5
}
