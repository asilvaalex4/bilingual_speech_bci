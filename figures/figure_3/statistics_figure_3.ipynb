{
 "cells": [
  {
   "cell_type": "code",
   "execution_count": 2,
   "id": "a0fc8912-cd70-40be-b48e-63adc16c3a88",
   "metadata": {},
   "outputs": [],
   "source": [
    "import pandas as pd\n",
    "# load the source data for each panel \n",
    "panel_a = pd.read_excel('./fig3_sourcedata.xlsx',engine='openpyxl',sheet_name='Panel_a',index_col=0)\n",
    "panel_b = pd.read_excel('./fig3_sourcedata.xlsx',engine='openpyxl',sheet_name='Panel_b',index_col=0)\n",
    "panel_c = pd.read_excel('./fig3_sourcedata.xlsx',engine='openpyxl',sheet_name='Panel_c',index_col=0)\n",
    "panel_d = pd.read_excel('./fig3_sourcedata.xlsx',engine='openpyxl',sheet_name='Panel_d',index_col=0)\n",
    "panel_e = pd.read_excel('./fig3_sourcedata.xlsx',engine='openpyxl',sheet_name='Panel_e',index_col=0)\n",
    "panel_f = pd.read_excel('./fig3_sourcedata.xlsx',engine='openpyxl',sheet_name='Panel_f',index_col=0)\n",
    "panel_g = pd.read_excel('./fig3_sourcedata.xlsx',engine='openpyxl',sheet_name='Panel_g',index_col=0)\n",
    "panel_i = pd.read_excel('./fig3_sourcedata.xlsx',engine='openpyxl',sheet_name='Panel_i',index_col=0)\n",
    "panel_j = pd.read_excel('./fig3_sourcedata.xlsx',engine='openpyxl',sheet_name='Panel_j',index_col=0)"
   ]
  },
  {
   "cell_type": "code",
   "execution_count": 3,
   "id": "8b191898-71ed-4472-89c5-48936e0088b5",
   "metadata": {},
   "outputs": [
    {
     "data": {
      "text/plain": [
       "MannwhitneyuResult(statistic=73.5, pvalue=0.08163854355626622)"
      ]
     },
     "execution_count": 3,
     "metadata": {},
     "output_type": "execute_result"
    }
   ],
   "source": [
    "from scipy.stats import ranksums\n",
    "from scipy.stats import mannwhitneyu\n",
    "mannwhitneyu(panel_j['Syllable accuracy'][(panel_j['Train language'] == 'Spanish') & (panel_j['Test language'] == 'Spanish')],\n",
    "         panel_j['Syllable accuracy'][(panel_j['Train language'] == 'Spanish') & (panel_j['Test language'] == 'English')])\n",
    "\n",
    "\n"
   ]
  },
  {
   "cell_type": "code",
   "execution_count": 4,
   "id": "77365b5c-1be1-4be9-a45b-cd6071c72fde",
   "metadata": {},
   "outputs": [
    {
     "data": {
      "text/plain": [
       "MannwhitneyuResult(statistic=80.0, pvalue=0.025083192541917893)"
      ]
     },
     "execution_count": 4,
     "metadata": {},
     "output_type": "execute_result"
    }
   ],
   "source": [
    "from scipy.stats import mannwhitneyu\n",
    "mannwhitneyu(panel_j['Syllable accuracy'][(panel_j['Train language'] == 'English') & (panel_j['Test language'] == 'English')],\n",
    "         panel_j['Syllable accuracy'][(panel_j['Train language'] == 'English') & (panel_j['Test language'] == 'Spanish')])\n",
    "\n",
    "\n"
   ]
  },
  {
   "cell_type": "code",
   "execution_count": 7,
   "id": "6303fc1f-e85e-4172-a8fc-5d46f83e6809",
   "metadata": {},
   "outputs": [
    {
     "name": "stdout",
     "output_type": "stream",
     "text": [
      "ERP Max\n",
      "0.7689983519501922\n",
      "0.0\n",
      "ERP Std\n",
      "0.9544268449002012\n",
      "0.0\n",
      "In vs Out language Corr\n",
      "0.9839944607214794\n",
      "0.0\n"
     ]
    }
   ],
   "source": [
    "from scipy import stats\n",
    "from gimutil.result_analysis import comparisons\n",
    "from scipy.stats import spearmanr\n",
    "\n",
    "t,p = comparisons.correlation_permutation(panel_d['English maxs.'],\n",
    "                                          panel_d['Spanish maxs.'],corr=spearmanr)\n",
    "print('ERP Max')\n",
    "print(t)\n",
    "print(p)\n",
    "\n",
    "\n",
    "t,p = comparisons.correlation_permutation(panel_e['English std.'],\n",
    "                                          panel_e['Spanish std.'],corr=spearmanr)\n",
    "print('ERP Std')\n",
    "print(t)\n",
    "print(p)\n",
    "t,p = comparisons.correlation_permutation(panel_f['In language corr'],\n",
    "                                          panel_f['Out language corr'],corr=spearmanr)\n",
    "print('In vs Out language Corr')\n",
    "print(t)\n",
    "print(p)\n"
   ]
  },
  {
   "cell_type": "code",
   "execution_count": 9,
   "id": "dcf911f7-a4d2-4d1a-9ac3-a9f7edf0c517",
   "metadata": {},
   "outputs": [
    {
     "name": "stdout",
     "output_type": "stream",
     "text": [
      "Results for decoding language: \n",
      "Median:  53.36538461538461\n",
      "99% CI: [ 49.03846153846153 ,  55.76923076923077 ]\n",
      "\n"
     ]
    }
   ],
   "source": [
    "import numpy as np\n",
    "def bootstrap(arr,itr=20000):\n",
    "    boots = []\n",
    "    for i in range(itr):\n",
    "        boots.append(np.median(np.random.choice(arr,arr.shape,replace=True)))\n",
    "        \n",
    "    return(boots)\n",
    "\n",
    "\n",
    "\n",
    "straps = np.array(bootstrap(panel_g['accuracy']))\n",
    "print('Results for decoding language: ')\n",
    "print('Median: ', np.median(panel_g['accuracy'] ))\n",
    "print('99% CI: [', np.percentile(straps,0.5), ', ', np.percentile(straps,99.5), ']')\n",
    "print('')\n"
   ]
  },
  {
   "cell_type": "code",
   "execution_count": null,
   "id": "fe6f9681-ab4f-4421-ba69-f89e918627f0",
   "metadata": {},
   "outputs": [],
   "source": []
  }
 ],
 "metadata": {
  "kernelspec": {
   "display_name": "Python 3 (ipykernel)",
   "language": "python",
   "name": "python3"
  },
  "language_info": {
   "codemirror_mode": {
    "name": "ipython",
    "version": 3
   },
   "file_extension": ".py",
   "mimetype": "text/x-python",
   "name": "python",
   "nbconvert_exporter": "python",
   "pygments_lexer": "ipython3",
   "version": "3.9.13"
  }
 },
 "nbformat": 4,
 "nbformat_minor": 5
}
