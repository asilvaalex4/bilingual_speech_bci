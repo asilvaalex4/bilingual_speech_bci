{
 "cells": [
  {
   "cell_type": "code",
   "execution_count": 4,
   "id": "ba88084b-98ad-4226-9dc1-0d3c1c5f5d26",
   "metadata": {},
   "outputs": [],
   "source": [
    "import pandas as pd\n",
    "import numpy as np\n",
    "# load the source data for each panel \n",
    "panel_a = pd.read_excel('./fig2_sourcedata.xlsx',engine='openpyxl',sheet_name='Panel_a',index_col=0)\n",
    "panel_b = pd.read_excel('./fig2_sourcedata.xlsx',engine='openpyxl',sheet_name='Panel_b',index_col=0)\n",
    "panel_c = pd.read_excel('./fig2_sourcedata.xlsx',engine='openpyxl',sheet_name='Panel_c',index_col=0)\n",
    "panel_d = pd.read_excel('./fig2_sourcedata.xlsx',engine='openpyxl',sheet_name='Panel_d',index_col=0)\n",
    "panel_e = pd.read_excel('./fig2_sourcedata.xlsx',engine='openpyxl',sheet_name='Panel_e',index_col=0)\n",
    "panel_f = pd.read_excel('./fig2_sourcedata.xlsx',engine='openpyxl',sheet_name='Panel_f',index_col=0)\n",
    "panel_g = pd.read_excel('./fig2_sourcedata.xlsx',engine='openpyxl',sheet_name='Panel_g',index_col=0)"
   ]
  },
  {
   "cell_type": "code",
   "execution_count": 5,
   "id": "f32faffd-5ebe-46e8-83bf-29221c95836d",
   "metadata": {},
   "outputs": [
    {
     "name": "stdout",
     "output_type": "stream",
     "text": [
      "Results for:  both\n",
      "Median:  47.24\n",
      "99% CI: [ 45.83 ,  48.23 ]\n",
      "\n",
      "Results for:  both_masked\n",
      "Median:  58.1\n",
      "99% CI: [ 56.93 ,  59.27 ]\n",
      "\n",
      "Results for:  eng_masked\n",
      "Median:  52.9\n",
      "99% CI: [ 51.57 ,  55.57 ]\n",
      "\n",
      "Results for:  spa_masked\n",
      "Median:  62.95\n",
      "99% CI: [ 61.34 ,  64.95 ]\n",
      "\n"
     ]
    }
   ],
   "source": [
    "def bootstrap(arr,itr=20000):\n",
    "    boots = []\n",
    "    for i in range(itr):\n",
    "        boots.append(np.median(np.random.choice(arr,arr.shape,replace=True)))\n",
    "        \n",
    "    return(boots)\n",
    "\n",
    "def print_bootstrap_results(df,column,itr=20000):\n",
    "    straps = np.array(bootstrap(df[column] ))\n",
    "    median_value = np.round(np.median(df[column]),2)\n",
    "    low_bound = np.round(np.percentile(straps,0.5),2)\n",
    "    up_bound = np.round(np.percentile(straps,99.5),2)\n",
    "    print('Results for: ',column)\n",
    "    print('Median: ', median_value)\n",
    "    print('99% CI: [', low_bound, ', ', up_bound, ']')\n",
    "    print('')\n",
    "\n",
    "print_bootstrap_results(panel_a,'both')\n",
    "print_bootstrap_results(panel_a,'both_masked')\n",
    "print_bootstrap_results(panel_a,'eng_masked')\n",
    "print_bootstrap_results(panel_a,'spa_masked')\n",
    "\n"
   ]
  },
  {
   "cell_type": "code",
   "execution_count": 7,
   "id": "b8450386-1a3c-405a-869c-525c478715a8",
   "metadata": {},
   "outputs": [
    {
     "name": "stdout",
     "output_type": "stream",
     "text": [
      "LFS\n",
      "0.9182441402673501\n",
      "0.0\n",
      "HGA\n",
      "0.8470117652444606\n",
      "0.0\n"
     ]
    }
   ],
   "source": [
    "# get relevant stats \n",
    "from gimutil.result_analysis import comparisons\n",
    "from scipy.stats import spearmanr\n",
    "from scipy.stats import pearsonr\n",
    "from scipy.stats import shapiro\n",
    "t,p = comparisons.correlation_permutation(panel_d['English LFS'],panel_d['Spanish LFS'],corr=spearmanr,n_permute=20000)\n",
    "print('LFS')\n",
    "print(t)\n",
    "print(p)\n",
    "# print('HGA')\n",
    "t,p = comparisons.correlation_permutation(panel_d['English HGA'],panel_d['Spanish HGA'],corr=spearmanr,n_permute=20000)\n",
    "print('HGA')\n",
    "print(t)\n",
    "print(p)\n",
    "\n",
    "\n",
    "\n",
    "\n"
   ]
  },
  {
   "cell_type": "code",
   "execution_count": 11,
   "id": "fedac467-39cb-4ae1-840b-28da6b6d944b",
   "metadata": {},
   "outputs": [
    {
     "data": {
      "text/plain": [
       "MannwhitneyuResult(statistic=9.0, pvalue=0.5476190476190477)"
      ]
     },
     "execution_count": 11,
     "metadata": {},
     "output_type": "execute_result"
    }
   ],
   "source": [
    "from scipy.stats import mannwhitneyu\n",
    "panel_b['before_1250'] = panel_b.Day <= 1345\n",
    "mannwhitneyu(panel_b['Accuracy'][(panel_b.Language == 'Overall') & (panel_b.before_1250 == True)].values,\n",
    "        panel_b['Accuracy'][(panel_b.Language == 'Overall') & (panel_b.before_1250 == False)].values)\n"
   ]
  },
  {
   "cell_type": "code",
   "execution_count": 12,
   "id": "230d6121-841f-4a61-8bef-15a8228372fb",
   "metadata": {},
   "outputs": [
    {
     "name": "stdout",
     "output_type": "stream",
     "text": [
      "('MCD', 'Semantic\\nsimilarity')\n",
      "0.0\n",
      "('MCD', 'Same\\nlanguage')\n",
      "0.0\n",
      "('Semantic\\nsimilarity', 'Same\\nlanguage')\n",
      "0.0\n"
     ]
    },
    {
     "data": {
      "text/plain": [
       "array([0., 0., 0.])"
      ]
     },
     "execution_count": 12,
     "metadata": {},
     "output_type": "execute_result"
    }
   ],
   "source": [
    "from scipy.stats import wilcoxon\n",
    "\n",
    "cats = ['MCD','Semantic\\nsimilarity','Same\\nlanguage']\n",
    "ps = []\n",
    "tests = []\n",
    "for i,cat in enumerate(cats):\n",
    "    for cat2 in cats[(i+1):]:\n",
    "        tests.append((cat,cat2))\n",
    "        ps.append(wilcoxon(panel_g['Variance explained'][panel_g.Var == cat],\n",
    "                               panel_g['Variance explained'][panel_g.Var == cat2]).pvalue)\n",
    "        print((cat,cat2))\n",
    "        print(ps[-1])\n",
    "\n",
    "from statsmodels.stats.multitest import multipletests\n",
    "multipletests(ps,alpha=0.01,method='holm')[1]"
   ]
  },
  {
   "cell_type": "code",
   "execution_count": null,
   "id": "388ce042-5b8d-4955-a828-67d5288419fa",
   "metadata": {},
   "outputs": [],
   "source": []
  }
 ],
 "metadata": {
  "kernelspec": {
   "display_name": "Python 3 (ipykernel)",
   "language": "python",
   "name": "python3"
  },
  "language_info": {
   "codemirror_mode": {
    "name": "ipython",
    "version": 3
   },
   "file_extension": ".py",
   "mimetype": "text/x-python",
   "name": "python",
   "nbconvert_exporter": "python",
   "pygments_lexer": "ipython3",
   "version": "3.9.13"
  }
 },
 "nbformat": 4,
 "nbformat_minor": 5
}
